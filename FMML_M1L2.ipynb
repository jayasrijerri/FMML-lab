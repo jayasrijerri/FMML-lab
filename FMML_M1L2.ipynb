{
  "cells": [
    {
      "cell_type": "markdown",
      "metadata": {
        "id": "view-in-github",
        "colab_type": "text"
      },
      "source": [
        "<a href=\"https://colab.research.google.com/github/jayasrijerri/FMML-lab/blob/main/FMML_M1L2.ipynb\" target=\"_parent\"><img src=\"https://colab.research.google.com/assets/colab-badge.svg\" alt=\"Open In Colab\"/></a>"
      ]
    },
    {
      "cell_type": "markdown",
      "metadata": {
        "id": "3Eu9VZbF01eq"
      },
      "source": [
        "# Machine Learning terms and metrics\n",
        "\n",
        "FMML Module 1, Lab 2\n",
        "\n",
        "In this lab, we will show a part of the ML pipeline by using the California Housing dataset. There are 20640 samples, each with 8 attributes like income of the block, age of the houses per district etc. The task is to predict the cost of the houses per district. We will use the scikit-learn library to load the data and perform some basic data preprocessing and model training. We will also show how to evaluate the model using some common metrics, split the data into training and testing sets, and use cross-validation to get a better estimate of the model's performance."
      ]
    },
    {
      "cell_type": "code",
      "execution_count": null,
      "metadata": {
        "id": "8qBvyEem0vLi"
      },
      "outputs": [],
      "source": [
        "import numpy as np\n",
        "from sklearn import datasets\n",
        "import matplotlib.pyplot as plt\n",
        "\n",
        "rng = np.random.default_rng(seed=42)"
      ]
    },
    {
      "cell_type": "code",
      "execution_count": null,
      "metadata": {
        "colab": {
          "base_uri": "https://localhost:8080/"
        },
        "id": "8LpqjN991GGJ",
        "outputId": "6f379d6f-dc2c-427a-93f7-587d7b909a5a"
      },
      "outputs": [
        {
          "output_type": "stream",
          "name": "stdout",
          "text": [
            ".. _california_housing_dataset:\n",
            "\n",
            "California Housing dataset\n",
            "--------------------------\n",
            "\n",
            "**Data Set Characteristics:**\n",
            "\n",
            "    :Number of Instances: 20640\n",
            "\n",
            "    :Number of Attributes: 8 numeric, predictive attributes and the target\n",
            "\n",
            "    :Attribute Information:\n",
            "        - MedInc        median income in block group\n",
            "        - HouseAge      median house age in block group\n",
            "        - AveRooms      average number of rooms per household\n",
            "        - AveBedrms     average number of bedrooms per household\n",
            "        - Population    block group population\n",
            "        - AveOccup      average number of household members\n",
            "        - Latitude      block group latitude\n",
            "        - Longitude     block group longitude\n",
            "\n",
            "    :Missing Attribute Values: None\n",
            "\n",
            "This dataset was obtained from the StatLib repository.\n",
            "https://www.dcc.fc.up.pt/~ltorgo/Regression/cal_housing.html\n",
            "\n",
            "The target variable is the median house value for California districts,\n",
            "expressed in hundreds of thousands of dollars ($100,000).\n",
            "\n",
            "This dataset was derived from the 1990 U.S. census, using one row per census\n",
            "block group. A block group is the smallest geographical unit for which the U.S.\n",
            "Census Bureau publishes sample data (a block group typically has a population\n",
            "of 600 to 3,000 people).\n",
            "\n",
            "A household is a group of people residing within a home. Since the average\n",
            "number of rooms and bedrooms in this dataset are provided per household, these\n",
            "columns may take surprisingly large values for block groups with few households\n",
            "and many empty houses, such as vacation resorts.\n",
            "\n",
            "It can be downloaded/loaded using the\n",
            ":func:`sklearn.datasets.fetch_california_housing` function.\n",
            "\n",
            ".. topic:: References\n",
            "\n",
            "    - Pace, R. Kelley and Ronald Barry, Sparse Spatial Autoregressions,\n",
            "      Statistics and Probability Letters, 33 (1997) 291-297\n",
            "\n"
          ]
        }
      ],
      "source": [
        "dataset = datasets.fetch_california_housing()\n",
        "# Dataset description\n",
        "print(dataset.DESCR)"
      ]
    },
    {
      "cell_type": "markdown",
      "metadata": {
        "id": "PCe1VNftevgE"
      },
      "source": [
        "Given below are the list of target values. These correspond to the house value derived considering all the 8 input features and are continuous values. We should use regression models to predict these values but we will start with a simple classification model for the sake of simplicity. We need to just round off the values to the nearest integer and use a classification model to predict the house value."
      ]
    },
    {
      "cell_type": "code",
      "execution_count": null,
      "metadata": {
        "colab": {
          "base_uri": "https://localhost:8080/"
        },
        "id": "F8K0ggBOevgE",
        "outputId": "f71dd070-d8a0-41e1-b595-107fec9f47e8"
      },
      "outputs": [
        {
          "output_type": "stream",
          "name": "stdout",
          "text": [
            "Orignal target values: [4.526 3.585 3.521 ... 0.923 0.847 0.894]\n",
            "Target values after conversion: [4 3 3 ... 0 0 0]\n",
            "Input variables shape: (20640, 8)\n",
            "Output variables shape: (20640,)\n"
          ]
        }
      ],
      "source": [
        "print(\"Orignal target values:\", dataset.target)\n",
        "\n",
        "dataset.target = dataset.target.astype(int)\n",
        "\n",
        "print(\"Target values after conversion:\", dataset.target)\n",
        "print(\"Input variables shape:\", dataset.data.shape)\n",
        "print(\"Output variables shape:\", dataset.target.shape)"
      ]
    },
    {
      "cell_type": "markdown",
      "metadata": {
        "id": "iNx4174W5xRg"
      },
      "source": [
        "The simplest model to use for classification is the K-Nearest Neighbors model. We will use this model to predict the house value with a K value of 1. We will also use the accuracy metric to evaluate the model."
      ]
    },
    {
      "cell_type": "code",
      "execution_count": null,
      "metadata": {
        "id": "07zpydQj1hIQ"
      },
      "outputs": [],
      "source": [
        "def NN1(traindata, trainlabel, query):\n",
        "    \"\"\"\n",
        "    This function takes in the training data, training labels and a query point\n",
        "    and returns the predicted label for the query point using the nearest neighbour algorithm\n",
        "\n",
        "    traindata: numpy array of shape (n,d) where n is the number of samples and d is the number of features\n",
        "    trainlabel: numpy array of shape (n,) where n is the number of samples\n",
        "    query: numpy array of shape (d,) where d is the number of features\n",
        "\n",
        "    returns: the predicted label for the query point which is the label of the training data which is closest to the query point\n",
        "    \"\"\"\n",
        "    diff = (\n",
        "        traindata - query\n",
        "    )  # find the difference between features. Numpy automatically takes care of the size here\n",
        "    sq = diff * diff  # square the differences\n",
        "    dist = sq.sum(1)  # add up the squares\n",
        "    label = trainlabel[np.argmin(dist)]\n",
        "    return label\n",
        "\n",
        "\n",
        "def NN(traindata, trainlabel, testdata):\n",
        "    \"\"\"\n",
        "    This function takes in the training data, training labels and test data\n",
        "    and returns the predicted labels for the test data using the nearest neighbour algorithm\n",
        "\n",
        "    traindata: numpy array of shape (n,d) where n is the number of samples and d is the number of features\n",
        "    trainlabel: numpy array of shape (n,) where n is the number of samples\n",
        "    testdata: numpy array of shape (m,d) where m is the number of test samples and d is the number of features\n",
        "\n",
        "    returns: the predicted labels for the test data which is the label of the training data which is closest to each test point\n",
        "    \"\"\"\n",
        "    predlabel = np.array([NN1(traindata, trainlabel, i) for i in testdata])\n",
        "    return predlabel"
      ]
    },
    {
      "cell_type": "markdown",
      "metadata": {
        "id": "03JktkfIGaje"
      },
      "source": [
        "We will also define a 'random classifier', which randomly allots labels to each sample"
      ]
    },
    {
      "cell_type": "code",
      "execution_count": null,
      "metadata": {
        "id": "fogWAtjyGhAH"
      },
      "outputs": [],
      "source": [
        "def RandomClassifier(traindata, trainlabel, testdata):\n",
        "    \"\"\"\n",
        "    This function takes in the training data, training labels and test data\n",
        "    and returns the predicted labels for the test data using the random classifier algorithm\n",
        "\n",
        "    In reality, we don't need these arguments but we are passing them to keep the function signature consistent with other classifiers\n",
        "\n",
        "    traindata: numpy array of shape (n,d) where n is the number of samples and d is the number of features\n",
        "    trainlabel: numpy array of shape (n,) where n is the number of samples\n",
        "    testdata: numpy array of shape (m,d) where m is the number of test samples and d is the number of features\n",
        "\n",
        "    returns: the predicted labels for the test data which is a random label from the training data\n",
        "    \"\"\"\n",
        "\n",
        "    classes = np.unique(trainlabel)\n",
        "    rints = rng.integers(low=0, high=len(classes), size=len(testdata))\n",
        "    predlabel = classes[rints]\n",
        "    return predlabel"
      ]
    },
    {
      "cell_type": "markdown",
      "metadata": {
        "id": "1Hjf1KHs7fU5"
      },
      "source": [
        "We need a metric to evaluate the performance of the model. Let us define a metric 'Accuracy' to see how good our learning algorithm is. Accuracy is the ratio of the number of correctly classified samples to the total number of samples. The higher the accuracy, the better the algorithm. We will use the accuracy metric to evaluate and compate the performance of the K-Nearest Neighbors model and the random classifier."
      ]
    },
    {
      "cell_type": "code",
      "execution_count": null,
      "metadata": {
        "id": "ouuCqWU07bz-"
      },
      "outputs": [],
      "source": [
        "def Accuracy(gtlabel, predlabel):\n",
        "    \"\"\"\n",
        "    This function takes in the ground-truth labels and predicted labels\n",
        "    and returns the accuracy of the classifier\n",
        "\n",
        "    gtlabel: numpy array of shape (n,) where n is the number of samples\n",
        "    predlabel: numpy array of shape (n,) where n is the number of samples\n",
        "\n",
        "    returns: the accuracy of the classifier which is the number of correct predictions divided by the total number of predictions\n",
        "    \"\"\"\n",
        "    assert len(gtlabel) == len(\n",
        "        predlabel\n",
        "    ), \"Length of the ground-truth labels and predicted labels should be the same\"\n",
        "    correct = (\n",
        "        gtlabel == predlabel\n",
        "    ).sum()  # count the number of times the groundtruth label is equal to the predicted label.\n",
        "    return correct / len(gtlabel)"
      ]
    },
    {
      "cell_type": "markdown",
      "metadata": {
        "id": "4vJFwBFa9Klw"
      },
      "source": [
        "Let us make a function to split the dataset with the desired probability. We will use this function to split the dataset into training and testing sets. We will use the training set to train the model and the testing set to evaluate the model."
      ]
    },
    {
      "cell_type": "code",
      "execution_count": null,
      "metadata": {
        "id": "Ko0VzpSM2Tdi"
      },
      "outputs": [],
      "source": [
        "def split(data, label, percent):\n",
        "    # generate a random number for each sample\n",
        "    rnd = rng.random(len(label))\n",
        "    split1 = rnd < percent\n",
        "    split2 = rnd >= percent\n",
        "\n",
        "    split1data = data[split1, :]\n",
        "    split1label = label[split1]\n",
        "    split2data = data[split2, :]\n",
        "    split2label = label[split2]\n",
        "    return split1data, split1label, split2data, split2label"
      ]
    },
    {
      "cell_type": "markdown",
      "metadata": {
        "id": "AcK3LEAJ_LGC"
      },
      "source": [
        "We will reserve 20% of our dataset as the test set. We will not change this portion throughout our experiments"
      ]
    },
    {
      "cell_type": "code",
      "execution_count": null,
      "metadata": {
        "colab": {
          "base_uri": "https://localhost:8080/"
        },
        "id": "bBZkHBLJ1iU-",
        "outputId": "73ffc0bd-354d-4051-f17a-c6adebdd58fe"
      },
      "outputs": [
        {
          "output_type": "stream",
          "name": "stdout",
          "text": [
            "Number of test samples: 4144\n",
            "Number of train samples: 16496\n",
            "Percent of test data: 20.07751937984496 %\n"
          ]
        }
      ],
      "source": [
        "testdata, testlabel, alltraindata, alltrainlabel = split(\n",
        "    dataset.data, dataset.target, 20 / 100\n",
        ")\n",
        "print(\"Number of test samples:\", len(testlabel))\n",
        "print(\"Number of train samples:\", len(alltrainlabel))\n",
        "print(\"Percent of test data:\", len(testlabel) * 100 / len(dataset.target), \"%\")"
      ]
    },
    {
      "cell_type": "markdown",
      "metadata": {
        "id": "a6Ss0Z6IAGNV"
      },
      "source": [
        "## Experiments with splits\n",
        "\n",
        "Let us reserve some of our train data as a validation set"
      ]
    },
    {
      "cell_type": "code",
      "execution_count": null,
      "metadata": {
        "id": "WFew2iry_7W7"
      },
      "outputs": [],
      "source": [
        "traindata, trainlabel, valdata, vallabel = split(\n",
        "    alltraindata, alltrainlabel, 75 / 100)"
      ]
    },
    {
      "cell_type": "markdown",
      "metadata": {
        "id": "60hiu4clFN1i"
      },
      "source": [
        "What is the accuracy of our classifiers on the train dataset?"
      ]
    },
    {
      "cell_type": "code",
      "execution_count": null,
      "metadata": {
        "colab": {
          "base_uri": "https://localhost:8080/"
        },
        "id": "DBlZDTHUFTZx",
        "outputId": "2d0ed616-7ece-4d8f-8f8d-cb1eb48f7385"
      },
      "outputs": [
        {
          "output_type": "stream",
          "name": "stdout",
          "text": [
            "Training accuracy using nearest neighbour algorithm: 100.0 %\n",
            "Training accuracy using random classifier:  16.4375808538163 %\n"
          ]
        }
      ],
      "source": [
        "trainpred = NN(traindata, trainlabel, traindata)\n",
        "trainAccuracy = Accuracy(trainlabel, trainpred)\n",
        "print(\"Training accuracy using nearest neighbour algorithm:\", trainAccuracy*100, \"%\")\n",
        "\n",
        "trainpred = RandomClassifier(traindata, trainlabel, traindata)\n",
        "trainAccuracy = Accuracy(trainlabel, trainpred)\n",
        "print(\"Training accuracy using random classifier: \", trainAccuracy*100, \"%\")"
      ]
    },
    {
      "cell_type": "markdown",
      "metadata": {
        "id": "7h08-9gJDtSy"
      },
      "source": [
        "For nearest neighbour, the train accuracy is always 1. The accuracy of the random classifier is close to 1/(number of classes) which is 0.1666 in our case. This is because the random classifier randomly assigns a label to each sample and the probability of assigning the correct label is 1/(number of classes). Let us predict the labels for our validation set and get the accuracy. This accuracy is a good estimate of the accuracy of our model on unseen data."
      ]
    },
    {
      "cell_type": "code",
      "execution_count": null,
      "metadata": {
        "colab": {
          "base_uri": "https://localhost:8080/"
        },
        "id": "4h7bXoW_2H3v",
        "outputId": "ab09a4be-1b0e-4db2-ef67-a4b5f41c48fe"
      },
      "outputs": [
        {
          "output_type": "stream",
          "name": "stdout",
          "text": [
            "Validation accuracy using nearest neighbour algorithm: 34.10852713178294 %\n",
            "Validation accuracy using random classifier: 16.884689922480618 %\n"
          ]
        }
      ],
      "source": [
        "valpred = NN(traindata, trainlabel, valdata)\n",
        "valAccuracy = Accuracy(vallabel, valpred)\n",
        "print(\"Validation accuracy using nearest neighbour algorithm:\", valAccuracy*100, \"%\")\n",
        "\n",
        "\n",
        "valpred = RandomClassifier(traindata, trainlabel, valdata)\n",
        "valAccuracy = Accuracy(vallabel, valpred)\n",
        "print(\"Validation accuracy using random classifier:\", valAccuracy*100, \"%\")"
      ]
    },
    {
      "cell_type": "markdown",
      "metadata": {
        "id": "py9bLguFEjfg"
      },
      "source": [
        "Validation accuracy of nearest neighbour is considerably less than its train accuracy while the validation accuracy of random classifier is the same. However, the validation accuracy of nearest neighbour is twice that of the random classifier. Now let us try another random split and check the validation accuracy. We will see that the validation accuracy changes with the split. This is because the validation set is small and the accuracy is highly dependent on the samples in the validation set. We can get a better estimate of the accuracy by using cross-validation."
      ]
    },
    {
      "cell_type": "code",
      "execution_count": null,
      "metadata": {
        "colab": {
          "base_uri": "https://localhost:8080/"
        },
        "id": "ujm3cyYzEntE",
        "outputId": "8e5506e9-474c-4fd6-d7a6-b14aa1b8b8d1"
      },
      "outputs": [
        {
          "output_type": "stream",
          "name": "stdout",
          "text": [
            "Validation accuracy using nearest neighbour algorithm: 34.048257372654156 %\n"
          ]
        }
      ],
      "source": [
        "traindata, trainlabel, valdata, vallabel = split(\n",
        "    alltraindata, alltrainlabel, 75 / 100)\n",
        "valpred = NN(traindata, trainlabel, valdata)\n",
        "valAccuracy = Accuracy(vallabel, valpred)\n",
        "print(\"Validation accuracy using nearest neighbour algorithm:\", valAccuracy*100, \"%\")"
      ]
    },
    {
      "cell_type": "markdown",
      "metadata": {
        "id": "oSOx7U83EKie"
      },
      "source": [
        "You can run the above cell multiple times to try with different random splits.\n",
        "We notice that the accuracy is different for each run, but close together.\n",
        "\n",
        "Now let us compare it with the accuracy we get on the test dataset."
      ]
    },
    {
      "cell_type": "code",
      "execution_count": null,
      "metadata": {
        "colab": {
          "base_uri": "https://localhost:8080/"
        },
        "id": "PNEZ5ToYBEDW",
        "outputId": "2487fee9-0efc-4ce9-8b76-c8fd90b0c94a"
      },
      "outputs": [
        {
          "output_type": "stream",
          "name": "stdout",
          "text": [
            "Test accuracy: 34.91795366795367 %\n"
          ]
        }
      ],
      "source": [
        "testpred = NN(alltraindata, alltrainlabel, testdata)\n",
        "testAccuracy = Accuracy(testlabel, testpred)\n",
        "\n",
        "print(\"Test accuracy:\", testAccuracy*100, \"%\")"
      ]
    },
    {
      "cell_type": "markdown",
      "metadata": {
        "id": "w3dGD531K3gH"
      },
      "source": [
        "### Try it out for yourself and answer:\n",
        "1. How is the accuracy of the validation set affected if we increase the percentage of validation set? What happens when we reduce it?\n",
        "2. How does the size of the train and validation set affect how well we can predict the accuracy on the test set using the validation set?\n",
        "3. What do you think is a good percentage to reserve for the validation set so that thest two factors are balanced?\n",
        "\n",
        "Answer for both nearest neighbour and random classifier. You can note down the values for your experiments and plot a graph using  <a href=https://matplotlib.org/stable/gallery/lines_bars_and_markers/step_demo.html#sphx-glr-gallery-lines-bars-and-markers-step-demo-py>plt.plot<href>. Check also for extreme values for splits, like 99.9% or 0.1%"
      ]
    },
    {
      "cell_type": "markdown",
      "metadata": {
        "id": "M9zvdYY6evgI"
      },
      "source": [
        "> Exercise: Try to implement a 3 nearest neighbour classifier and compare the accuracy of the 1 nearest neighbour classifier and the 3 nearest neighbour classifier on the test dataset. You can use the KNeighborsClassifier class from the scikit-learn library to implement the K-Nearest Neighbors model. You can set the number of neighbors using the n_neighbors parameter. You can also use the accuracy_score function from the scikit-learn library to calculate the accuracy of the model."
      ]
    },
    {
      "cell_type": "markdown",
      "metadata": {
        "id": "PnYvkAZLQY7h"
      },
      "source": [
        "## Multiple Splits\n",
        "\n",
        "One way to get more accurate estimates for the test accuracy is by using <b>cross-validation</b>. Here, we will try a simple version, where we do multiple train/val splits and take the average of validation accuracies as the test accuracy estimation. Here is a function for doing this. Note that this function will take a long time to execute. You can reduce the number of splits to make it faster."
      ]
    },
    {
      "cell_type": "code",
      "execution_count": null,
      "metadata": {
        "id": "E4nGCUQXBTzo"
      },
      "outputs": [],
      "source": [
        "def AverageAccuracy(alldata, alllabel, splitpercent, iterations, classifier=NN):\n",
        "    \"\"\"\n",
        "    This function takes in the data, labels, split percentage, number of iterations and classifier function\n",
        "    and returns the average accuracy of the classifier\n",
        "\n",
        "    alldata: numpy array of shape (n,d) where n is the number of samples and d is the number of features\n",
        "    alllabel: numpy array of shape (n,) where n is the number of samples\n",
        "    splitpercent: float which is the percentage of data to be used for training\n",
        "    iterations: int which is the number of iterations to run the classifier\n",
        "    classifier: function which is the classifier function to be used\n",
        "\n",
        "    returns: the average accuracy of the classifier\n",
        "    \"\"\"\n",
        "    accuracy = 0\n",
        "    for ii in range(iterations):\n",
        "        traindata, trainlabel, valdata, vallabel = split(\n",
        "            alldata, alllabel, splitpercent\n",
        "        )\n",
        "        valpred = classifier(traindata, trainlabel, valdata)\n",
        "        accuracy += Accuracy(vallabel, valpred)\n",
        "    return accuracy / iterations  # average of all accuracies"
      ]
    },
    {
      "cell_type": "code",
      "execution_count": null,
      "metadata": {
        "colab": {
          "base_uri": "https://localhost:8080/"
        },
        "id": "H3qtNar7Bbik",
        "outputId": "5a5a53ec-beea-4f7f-cefc-79f74cceb1bd"
      },
      "outputs": [
        {
          "output_type": "stream",
          "name": "stdout",
          "text": [
            "Average validation accuracy: 33.58463539517022 %\n",
            "Test accuracy: 34.91795366795367 %\n"
          ]
        }
      ],
      "source": [
        "avg_acc = AverageAccuracy(alltraindata, alltrainlabel, 75 / 100, 10, classifier=NN)\n",
        "print(\"Average validation accuracy:\", avg_acc*100, \"%\")\n",
        "testpred = NN(alltraindata, alltrainlabel, testdata)\n",
        "\n",
        "print(\"Test accuracy:\", Accuracy(testlabel, testpred)*100, \"%\")"
      ]
    },
    {
      "cell_type": "markdown",
      "metadata": {
        "id": "33GIn4x5VH-d"
      },
      "source": [
        "This is a very simple way of doing cross-validation. There are many well-known algorithms for cross-validation, like k-fold cross-validation, leave-one-out etc. This will be covered in detail in a later module. For more information about cross-validation, check <a href=https://en.wikipedia.org/wiki/Cross-validation_(statistics)>Cross-validatioin (Wikipedia)</a>\n",
        "\n",
        "### Questions\n",
        "1. Does averaging the validation accuracy across multiple splits give more consistent results?Yes, averaging validation accuracy across multiple splits (e.g., using **k-fold cross-validation**) generally gives more consistent and reliable results compared to a single train-test split. Here's why and how it works:\n",
        "\n",
        "---\n",
        "\n",
        "### **Why Averaging Across Splits is Effective**\n",
        "1. **Mitigates Variability in Data Splits:**\n",
        "   - The performance of a model on a single train-test split can vary significantly depending on how the data is divided. For example, a split with an overrepresentation of certain classes or outliers can skew the results.\n",
        "   - By averaging across multiple splits, you smooth out these fluctuations, leading to a more robust estimate of model performance.\n",
        "\n",
        "2. **Utilizes the Entire Dataset:**\n",
        "   - In **k-fold cross-validation**, every data point is used for both training and validation at least once (except in the case of leave-one-out cross-validation, where it's used multiple times). This ensures the model is evaluated on diverse subsets of the data, giving a better indication of its generalization ability.\n",
        "\n",
        "3. **Reduces Overfitting Risk in Evaluation:**\n",
        "   - Using multiple splits ensures that the validation metric is less dependent on any single subset of data, which can sometimes lead to overly optimistic or pessimistic performance estimates.\n",
        "\n",
        "4. **Improves Consistency for Small Datasets:**\n",
        "   - When the dataset is small, a single split might not represent the true data distribution. Cross-validation compensates for this by providing multiple perspectives on the dataset.\n",
        "\n",
        "---\n",
        "\n",
        "### **How Averaging Works in Cross-Validation**\n",
        "1. **Perform k-Fold Cross-Validation:**\n",
        "   - Divide the dataset into \\(k\\) folds (e.g., 5 or 10).\n",
        "   - Train the model on \\(k-1\\) folds and validate it on the remaining fold.\n",
        "   - Repeat this process \\(k\\) times, each time using a different fold for validation.\n",
        "\n",
        "2. **Compute Validation Accuracy for Each Fold:**\n",
        "   - After training on \\(k-1\\) folds, compute the accuracy on the held-out fold.\n",
        "\n",
        "3. **Average the Results:**\n",
        "   - Take the mean of the \\(k\\) validation accuracies to get the final estimate:\n",
        "     \\[\n",
        "     \\text{Mean Accuracy} = \\frac{1}{k} \\sum_{i=1}^{k} \\text{Accuracy}_i\n",
        "     \\]\n",
        "   - Optionally, you can also calculate the **standard deviation** to understand the variability of the results.\n",
        "\n",
        "---\n",
        "\n",
        "### **When to Use Averaging**\n",
        "- **Small Datasets:** Cross-validation is essential to make the most of limited data.\n",
        "- **Model Comparison:** Averaging helps reduce biases when comparing different models or hyperparameter configurations.\n",
        "- **Highly Variable Data:** If the dataset has high variance or imbalanced classes, averaging ensures a fair evaluation.\n",
        "\n",
        "---\n",
        "\n",
        "### **Potential Downsides**\n",
        "1. **Computational Cost:**\n",
        "   - Training the model \\(k\\) times (or more, in the case of nested cross-validation) can be computationally expensive, especially for large datasets or complex models.\n",
        "\n",
        "2. **Overestimation with Overlap:**\n",
        "   - If the train and validation sets overlap (e.g., in leave-one-out cross-validation with highly similar samples), the validation scores might be overly optimistic.\n",
        "\n",
        "3. **Choice of \\(k\\):**\n",
        "   - A smaller \\(k\\) (e.g., 5) is computationally lighter but less robust. A larger \\(k\\) (e.g., 10) provides more accurate estimates but requires more time.\n",
        "\n",
        "---\n",
        "\n",
        "### **Conclusion**\n",
        "Averaging validation accuracy across multiple splits provides more consistent and reliable results than relying on a single split. It captures the model's performance across a broader range of data scenarios and is particularly valuable for small or imbalanced datasets. However, balance the added computational cost with the need for robust evaluation. For large datasets, even a simpler train-validation-test split might suffice, provided it reflects the true data distribution.\n",
        "2. Does it give more accurate estimate of test accuracy?Yes, averaging validation accuracy across multiple splits (e.g., through **k-fold cross-validation**) generally provides a **more accurate estimate of test accuracy** compared to a single train-test split. Here's why this is the case:\n",
        "\n",
        "---\n",
        "\n",
        "### **Why Cross-Validation Provides a Better Estimate of Test Accuracy**\n",
        "\n",
        "1. **Reduces Bias from a Single Split**:\n",
        "   - A single train-test split might not represent the entire dataset's distribution, especially if the split is not random or if the dataset is small or imbalanced.\n",
        "   - Cross-validation ensures that every data point is used for both training and validation, reducing the bias introduced by any one split.\n",
        "\n",
        "2. **Accounts for Data Variability**:\n",
        "   - Real-world datasets often have inherent variability. Some splits might inadvertently include more difficult examples in the validation set or unbalanced representations of classes.\n",
        "   - By averaging across multiple splits, cross-validation captures the performance on a variety of train-test scenarios, making the estimate more robust.\n",
        "\n",
        "3. **Improved Generalization Assessment**:\n",
        "   - Since each fold tests the model on unseen data (the held-out fold), cross-validation simulates the process of making predictions on a separate test set multiple times. This gives a better sense of how the model is likely to generalize to entirely new data.\n",
        "\n",
        "4. **Mitigates Overfitting in Evaluation**:\n",
        "   - If the model overfits to the training data in a single train-test split, the test accuracy might appear artificially high or low. Averaging over multiple splits smooths out these effects and provides a more reliable measure.\n",
        "\n",
        "---\n",
        "\n",
        "### **When Cross-Validation Gives an Accurate Estimate of Test Accuracy**\n",
        "\n",
        "1. **When the Dataset is Representative**:\n",
        "   - The dataset must reflect the characteristics of the unseen test data. Cross-validation estimates will only be accurate if the dataset is not biased or unrepresentative.\n",
        "\n",
        "2. **When \\(k\\) is Chosen Appropriately**:\n",
        "   - A smaller \\(k\\) (e.g., 5) works well for large datasets, while a larger \\(k\\) (e.g., 10) is better for small datasets, as it ensures more samples are included in training.\n",
        "\n",
        "3. **When There's No Data Leakage**:\n",
        "   - If features or information from the validation folds inadvertently leak into the training folds, cross-validation accuracy can be misleading.\n",
        "\n",
        "---\n",
        "\n",
        "### **Caveats**\n",
        "While cross-validation provides a better estimate of test accuracy, it is not perfect. Consider the following:\n",
        "\n",
        "1. **Data Distribution in Test Set**:\n",
        "   - If the test set distribution is significantly different from the training set (e.g., due to domain shifts), even a good cross-validation accuracy will not accurately predict test performance.\n",
        "\n",
        "2. **Overfitting to Validation Folds**:\n",
        "   - If cross-validation is used extensively for hyperparameter tuning, there's a risk of overfitting to the cross-validation procedure, leading to optimistic estimates.\n",
        "\n",
        "3. **Computational Cost**:\n",
        "   - Cross-validation can be computationally expensive, especially for large datasets or complex models.\n",
        "\n",
        "---\n",
        "\n",
        "### **Practical Tip: Use a Hold-Out Test Set**\n",
        "To ensure the cross-validation estimate aligns with the true test accuracy:\n",
        "1. Perform \\(k\\)-fold cross-validation on the training data to evaluate model performance and tune hyperparameters.\n",
        "2. After finalizing the model, evaluate it on a completely unseen **test set** that was held out from the start.\n",
        "\n",
        "This two-step process ensures:\n",
        "- Cross-validation provides a reliable estimate during model development.\n",
        "- The final test set gives an unbiased measure of real-world performance.\n",
        "\n",
        "---\n",
        "\n",
        "### **Summary**\n",
        "Averaging validation accuracy across multiple splits gives a more accurate estimate of test accuracy because it reduces biases from individual splits, captures data variability, and better assesses generalization. However, complement it with a hold-out test set for a final unbiased evaluation.\n",
        "3. What is the effect of the number of iterations on the estimate? Do we get a better estimate with higher iterations?The number of iterations in a validation process, such as cross-validation, directly impacts the reliability of the estimate of test accuracy. Here’s how increasing iterations affects the estimate:\n",
        "\n",
        "---\n",
        "\n",
        "### **Effects of Higher Iterations**\n",
        "\n",
        "1. **Reduced Variance in the Estimate**:\n",
        "   - With a higher number of iterations (e.g., increasing \\(k\\) in \\(k\\)-fold cross-validation or running repeated cross-validation), the estimate becomes more stable and consistent.\n",
        "   - Each iteration provides a different view of the data, averaging out peculiarities caused by random splits.\n",
        "   - As the number of iterations increases, the variance in validation results decreases, leading to a more reliable estimate.\n",
        "\n",
        "2. **Improved Robustness**:\n",
        "   - More iterations ensure the model is tested on various subsets of the data. This captures more diverse data characteristics, especially important if the dataset is small or has a lot of variability.\n",
        "   - It reduces the influence of any particular split that may be overly favorable or unfavorable.\n",
        "\n",
        "3. **Law of Large Numbers**:\n",
        "   - As the number of iterations increases, the average accuracy converges toward the true performance metric, giving a better approximation of the test accuracy.\n",
        "\n",
        "4. **Diminishing Returns**:\n",
        "   - After a certain point, increasing the number of iterations yields marginal improvements. For example:\n",
        "     - A 5-fold cross-validation already uses all data points for training and validation once. Repeated 5-fold cross-validation (e.g., 10 repetitions) improves the estimate but may not dramatically change it beyond a certain number of repetitions.\n",
        "     - Computational costs increase linearly with the number of iterations, but the improvement in the accuracy estimate may taper off.\n",
        "\n",
        "---\n",
        "\n",
        "### **When More Iterations Improve the Estimate**\n",
        "\n",
        "1. **Small or Imbalanced Datasets**:\n",
        "   - With fewer samples or skewed class distributions, the variability of each split is higher. A higher number of iterations mitigates this effect.\n",
        "\n",
        "2. **High Data Variability**:\n",
        "   - If the data has outliers or noisy patterns, more iterations ensure that the estimate isn't dominated by a few \"lucky\" or \"unlucky\" splits.\n",
        "\n",
        "3. **Algorithm Sensitivity**:\n",
        "   - Some algorithms, like neural networks or decision trees, are highly sensitive to data variations. More iterations can provide a more balanced evaluation.\n",
        "\n",
        "---\n",
        "\n",
        "### **Trade-offs of Higher Iterations**\n",
        "\n",
        "1. **Computational Cost**:\n",
        "   - Increasing the number of iterations directly increases the time and resources required for training and validation. This can be significant for large datasets or computationally expensive models.\n",
        "\n",
        "2. **Overfitting to Validation Procedure**:\n",
        "   - If repeated iterations are used excessively for hyperparameter tuning, the model might overfit to the cross-validation setup, leading to overly optimistic estimates.\n",
        "\n",
        "3. **Diminishing Returns**:\n",
        "   - Beyond a certain number of iterations, the marginal benefit decreases. For example:\n",
        "     - Moving from 5 to 10 repetitions can make a noticeable difference.\n",
        "     - Moving from 50 to 100 repetitions provides little improvement but significantly increases computational cost.\n",
        "\n",
        "---\n",
        "\n",
        "### **Practical Recommendations**\n",
        "\n",
        "1. **Choose Reasonable \\(k\\) for Cross-Validation**:\n",
        "   - For large datasets, 5- or 10-fold cross-validation is often sufficient.\n",
        "   - For small datasets, \\(k = 10\\) or leave-one-out cross-validation (LOOCV) can improve the estimate.\n",
        "\n",
        "2. **Repeated Cross-Validation**:\n",
        "   - Perform repeated cross-validation (e.g., 5-fold repeated 3–5 times) to further reduce variance and get a more stable estimate.\n",
        "\n",
        "3. **Monitor Computational Cost**:\n",
        "   - Balance the number of iterations with available computational resources. Adding too many iterations may not justify the minor improvement in reliability.\n",
        "\n",
        "---\n",
        "\n",
        "### **Summary**\n",
        "Higher iterations generally yield a better estimate of test accuracy by reducing variance and improving robustness. However, beyond a certain point, the improvements diminish, and computational costs increase. A balanced approach, such as 10-fold cross-validation or repeated 5-fold cross-validation, is often sufficient for most practical tasks.\n",
        "4. Consider the results you got for the previous questions. Can we deal with a very small train dataset or validation dataset by increasing the iterations?\n",
        "Yes, increasing the number of iterations (e.g., using repeated cross-validation or leave-one-out cross-validation) can help deal with very small training or validation datasets, but it has limitations and considerations. Here’s how and why it works, along with its challenges:\n",
        "\n",
        "---\n",
        "\n",
        "### **How Increasing Iterations Helps with Small Datasets**\n",
        "\n",
        "1. **Better Utilization of Limited Data**:\n",
        "   - In a small dataset, every data point is valuable. Techniques like \\(k\\)-fold cross-validation ensure that each sample is used for both training and validation multiple times, maximizing the utility of the available data.\n",
        "   - Example: In **leave-one-out cross-validation (LOOCV)**, every sample serves as a validation point once, and the rest are used for training. This ensures the most comprehensive use of data.\n",
        "\n",
        "2. **Reduced Bias and Variance in the Estimate**:\n",
        "   - Small datasets are prone to high variability in performance estimates due to randomness in splitting.\n",
        "   - By increasing the number of iterations, you average over many splits, reducing the bias and variance of the validation accuracy.\n",
        "\n",
        "3. **Improved Generalization Assessment**:\n",
        "   - A larger number of splits ensures the model is exposed to different subsets of the data, which improves the robustness of the performance estimate.\n",
        "\n",
        "---\n",
        "\n",
        "### **Challenges of Relying on Increased Iterations**\n",
        "\n",
        "1. **Overfitting to Small Datasets**:\n",
        "   - Even with many iterations, if the training dataset is very small, the model may overfit to the limited data. This results in overly optimistic validation accuracy that does not generalize to unseen test data.\n",
        "\n",
        "2. **Lack of Diversity in Small Datasets**:\n",
        "   - If the dataset is small, simply reusing the same data in different configurations cannot create additional diversity. The model might still fail to generalize well to new data outside the training set.\n",
        "\n",
        "3. **Computational Cost**:\n",
        "   - Increasing iterations (e.g., using LOOCV) can be computationally expensive, especially for complex models, as it requires training the model as many times as there are data points or folds.\n",
        "\n",
        "4. **Validation Performance Might Not Represent True Test Performance**:\n",
        "   - If the small dataset is not representative of the test data distribution, increasing iterations does not solve the fundamental problem of data insufficiency.\n",
        "\n",
        "---\n",
        "\n",
        "### **Strategies to Complement Higher Iterations for Small Datasets**\n",
        "\n",
        "1. **Data Augmentation**:\n",
        "   - If applicable, artificially increase the size of the dataset through data augmentation techniques (e.g., transformations for image data, adding noise to text or numerical data).\n",
        "\n",
        "2. **Use Regularization**:\n",
        "   - Apply techniques like L1/L2 regularization, dropout (for neural networks), or early stopping to prevent overfitting.\n",
        "\n",
        "3. **Pretrained Models or Transfer Learning**:\n",
        "   - Leverage models pretrained on larger datasets and fine-tune them on the small dataset. This helps mitigate the limitations of small data by utilizing prior knowledge.\n",
        "\n",
        "4. **Simplify the Model**:\n",
        "   - Use models with fewer parameters to reduce the risk of overfitting. For example, linear models or small decision trees might perform better than deep neural networks on small datasets.\n",
        "\n",
        "5. **Bootstrap Aggregation (Bagging)**:\n",
        "   - Use bootstrap sampling (random sampling with replacement) to create multiple training datasets, then average predictions across models trained on these samples.\n",
        "\n",
        "6. **Combine Cross-Validation with External Test Set**:\n",
        "   - Use cross-validation for model tuning but still reserve a small portion of the dataset as an independent test set to evaluate final performance.\n",
        "\n",
        "---\n",
        "\n",
        "### **When Increasing Iterations Alone Is Effective**\n",
        "- **Tiny Validation Set**:\n",
        "   - If you can afford to train on nearly the entire dataset (e.g., LOOCV), high-iteration cross-validation provides a reliable performance estimate for small datasets.\n",
        "\n",
        "- **Algorithm with Low Overfitting Risk**:\n",
        "   - Simpler algorithms (e.g., logistic regression, naive Bayes) are less prone to overfitting, making repeated iterations more useful.\n",
        "\n",
        "- **Few Features Relative to Data Points**:\n",
        "   - When the dataset is small but not extremely sparse in terms of features, higher iterations can still yield meaningful estimates.\n",
        "\n",
        "---\n",
        "\n",
        "### **Key Takeaway**\n",
        "Increasing iterations helps deal with small training or validation datasets by maximizing the use of available data and reducing variability in estimates. However, it cannot compensate for fundamental limitations of small datasets, such as overfitting risk, lack of diversity, or unrepresentative data. Complement this approach with techniques like data augmentation, transfer learning, and simpler models for best results."
      ]
    },
    {
      "cell_type": "markdown",
      "metadata": {
        "id": "z-SBxy1qevgJ"
      },
      "source": [
        "> Exercise: How does the accuracy of the 3 nearest neighbour classifier change with the number of splits? How is it affected by the split size? Compare the results with the 1 nearest neighbour classifier."
      ]
    }
  ],
  "metadata": {
    "colab": {
      "provenance": [],
      "include_colab_link": true
    },
    "kernelspec": {
      "display_name": "Python 3",
      "name": "python3"
    },
    "language_info": {
      "codemirror_mode": {
        "name": "ipython",
        "version": 3
      },
      "file_extension": ".py",
      "mimetype": "text/x-python",
      "name": "python",
      "nbconvert_exporter": "python",
      "pygments_lexer": "ipython3",
      "version": "3.10.10"
    }
  },
  "nbformat": 4,
  "nbformat_minor": 0
}